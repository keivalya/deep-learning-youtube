{
  "nbformat": 4,
  "nbformat_minor": 0,
  "metadata": {
    "colab": {
      "provenance": []
    },
    "kernelspec": {
      "name": "python3",
      "display_name": "Python 3"
    },
    "language_info": {
      "name": "python"
    }
  },
  "cells": [
    {
      "cell_type": "markdown",
      "source": [
        "# Gradients!\n",
        "\n",
        "Most of the content is inspired from [this](https://karpathy.github.io/neuralnets/) blogpost by [Andrej Karpathy](https://karpathy.ai/)!"
      ],
      "metadata": {
        "id": "2lw4-uxnitar"
      }
    },
    {
      "cell_type": "markdown",
      "source": [
        "## Base case: Single Gate in the circuit\n",
        "\n",
        "The circuit takes in two real-valued inputs `x` and `y` to compute `x*y`, and the gate is `*`\n",
        "\n",
        "$$f(x,y) = xy$$"
      ],
      "metadata": {
        "id": "oPBcmeEsWl2-"
      }
    },
    {
      "cell_type": "code",
      "execution_count": null,
      "metadata": {
        "colab": {
          "base_uri": "https://localhost:8080/"
        },
        "id": "MYAnjE3tVZ19",
        "outputId": "edc47881-7d56-4af9-d861-7a232c954e31"
      },
      "outputs": [
        {
          "output_type": "execute_result",
          "data": {
            "text/plain": [
              "-6"
            ]
          },
          "metadata": {},
          "execution_count": 1
        }
      ],
      "source": [
        "def forwardMultiplyGate (x, y):\n",
        "  return x * y\n",
        "\n",
        "forwardMultiplyGate(2, -3)"
      ]
    },
    {
      "cell_type": "markdown",
      "source": [
        "## Goal?\n",
        "\n",
        "How can we tweak the input slightly to increase the output?"
      ],
      "metadata": {
        "id": "hllTSR5hX-cu"
      }
    },
    {
      "cell_type": "markdown",
      "source": [
        "## Approach #1: Random!"
      ],
      "metadata": {
        "id": "h9ZMUJjOYOVn"
      }
    },
    {
      "cell_type": "code",
      "source": [
        "import random\n",
        "x, y = 2, -3\n",
        "\n",
        "tweak_amount = 0.01\n",
        "best_out = float('-inf')\n",
        "best_x, best_y = x, y\n",
        "\n",
        "for _ in range(100):\n",
        "  x_try = x + tweak_amount * random.uniform(-1, 1)\n",
        "  y_try = y + tweak_amount * random.uniform(-1, 1)\n",
        "\n",
        "  out = forwardMultiplyGate(x_try, y_try)\n",
        "\n",
        "  if (out > best_out):\n",
        "    best_out = out\n",
        "    best_x, best_y = x_try, y_try\n",
        "\n",
        "print(f\"New x = {best_x}; New y = {best_y}\")\n",
        "print(f\"Out = {best_out}\")\n",
        "print(f\"Has the output increased? {best_out > forwardMultiplyGate(x, y)}\")"
      ],
      "metadata": {
        "colab": {
          "base_uri": "https://localhost:8080/"
        },
        "id": "4ip4MCgEWg8q",
        "outputId": "60624b6a-3c68-4eeb-c227-70eb32fece52"
      },
      "execution_count": null,
      "outputs": [
        {
          "output_type": "stream",
          "name": "stdout",
          "text": [
            "New x = 1.9912347470185285; New y = -2.990072615170193\n",
            "Out = -5.953936487435449\n",
            "Has the output increased? True\n"
          ]
        }
      ]
    },
    {
      "cell_type": "markdown",
      "source": [
        "## Approach #2: Numerical Gradient\n",
        "\n",
        "Idea: Instead of pulling on the circuit’s output, we’ll iterate over every input one by one, increase it very slightly and look at what happens to the output value.\n",
        "\n",
        "> The derivative can be thought of as a force on each input as we pull on the output to become higher.\n",
        "\n",
        "$$\\frac{\\partial f(x,y)}{\\partial x} = \\frac{f(x+h,y) - f(x,y)}{h}$$\n",
        "\n",
        "$$\\frac{\\partial f(x,y)}{\\partial y} = \\frac{f(x,y+h) - f(x,y)}{h}$$\n",
        "\n",
        "`h` is a small *tweak amount* - similar to what we used in **Approach #1**. I hope you are familiar with simple calculus. LHS simply put means \"the change in `f(x,y)` if we change `x` by some *small* amount\", and it is said as, *derivative of `f(x,y)` with respect to `x`*!"
      ],
      "metadata": {
        "id": "FnTbUHsvai_X"
      }
    },
    {
      "cell_type": "code",
      "source": [
        "x, y = 2, -3\n",
        "out = forwardMultiplyGate(x, y)\n",
        "h = 0.01\n",
        "\n",
        "# df/dx\n",
        "xph = x + h\n",
        "out_w_x = forwardMultiplyGate(xph, y)\n",
        "x_deriv = (out_w_x - out) / h\n",
        "\n",
        "# df/dy\n",
        "yph = y + h\n",
        "out_w_y = forwardMultiplyGate(x, yph)\n",
        "y_deriv = (out_w_y - out) / h"
      ],
      "metadata": {
        "colab": {
          "base_uri": "https://localhost:8080/"
        },
        "id": "qw7t34H-ZYBD",
        "outputId": "03dc0169-baa3-4809-eb00-b2307fd963ae"
      },
      "execution_count": null,
      "outputs": [
        {
          "output_type": "stream",
          "name": "stdout",
          "text": [
            "2.01 -6.029999999999999 -2.999999999999936\n",
            "-2.99 -5.98 1.9999999999999574\n"
          ]
        }
      ]
    },
    {
      "cell_type": "markdown",
      "source": [
        "## Approach #3: Analytical Gradient\n",
        "\n"
      ],
      "metadata": {
        "id": "sn9KMc1QrWsl"
      }
    },
    {
      "cell_type": "markdown",
      "source": [
        "Let us start here,\n",
        "\n",
        "$$\\frac{\\partial f(x,y)}{\\partial x} = \\frac{f(x+h,y) - f(x,y)}{h}$$\n",
        "\n",
        "$$\\frac{\\partial f(x,y)}{\\partial x} = \\frac{f(x+h,y)-f(x,y)}{h} = \\frac{(x+h)y-xy}{h} = \\frac{xy+hy-xy}{h} = \\frac{hy}{h} = y$$\n",
        "\n",
        "Hmm, interesting! The derivative of `f(x,y)` with respect to `x` is just, `y`! That's what we discovered in the previous approach too. As you can tell now, by symmetry, derivative wrt `y` would be... `x`."
      ],
      "metadata": {
        "id": "nB5KxjPZirjy"
      }
    },
    {
      "cell_type": "code",
      "source": [
        "x, y = 2, -3\n",
        "out = forwardMultiplyGate(x, y)\n",
        "x_grad = y\n",
        "y_grad = x\n",
        "\n",
        "alpha = 0.01\n",
        "x += alpha * x_grad\n",
        "y += alpha * y_grad\n",
        "new_out = forwardMultiplyGate(x, y)"
      ],
      "metadata": {
        "id": "cwb20G81gJQS"
      },
      "execution_count": null,
      "outputs": []
    },
    {
      "cell_type": "markdown",
      "source": [
        "To compute the gradient we used 3 basic approaches!\n",
        "1. **Random Search** is a naive approach where we make small random changes in the input and keep track of which random combination yields highest increase in the output.\n",
        "2. Then we looked into **Numerical Gradient** method, which is quite simple (but expensive to compute). We compute it by probing the circuit’s output value as we tweak the inputs one at a time.\n",
        "3. Lastly, using **Analytical Gradient** method we can be smarter and analytically derive an expression for gradient. It is same as *numerical* method, but it is the fastest and needs no tweaking."
      ],
      "metadata": {
        "id": "Od0tC7-KkXSS"
      }
    },
    {
      "cell_type": "markdown",
      "source": [
        "## Circuits with Multiple Gates!\n",
        "\n",
        "Let us say, we have an expression such as,\n",
        "\n",
        "$$f(x,y,z) = (x+y)*z$$"
      ],
      "metadata": {
        "id": "uuRipBC8ln40"
      }
    },
    {
      "cell_type": "code",
      "source": [
        "def forwardMultiplyGate(a, b):\n",
        "  return a * b\n",
        "\n",
        "def forwardAddGate(a, b):\n",
        "  return a + b\n",
        "\n",
        "def forwardCircuit(x, y, z):\n",
        "  q = forwardAddGate(x, y)\n",
        "  f = forwardMultiplyGate(q, z)\n",
        "  return f\n",
        "\n",
        "x, y, z = -2, 5, -4\n",
        "forwardCircuit(x, y, z)"
      ],
      "metadata": {
        "id": "_XoOYL60ljje"
      },
      "execution_count": null,
      "outputs": []
    },
    {
      "cell_type": "markdown",
      "source": [
        "What do we want?we are interested in finding the derivatives with respect to the three inputs `x`,`y`, and `z`. But how do we compute it now that there are multiple gates involved?"
      ],
      "metadata": {
        "id": "MFcwRIbHnywu"
      }
    },
    {
      "cell_type": "code",
      "source": [],
      "metadata": {
        "id": "XrlhJj7vI_Ft"
      },
      "execution_count": null,
      "outputs": []
    }
  ]
}